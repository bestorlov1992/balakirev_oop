{
 "cells": [
  {
   "cell_type": "markdown",
   "metadata": {},
   "source": [
    "Queue on python"
   ]
  },
  {
   "cell_type": "code",
   "execution_count": null,
   "metadata": {},
   "outputs": [],
   "source": [
    "from collections import deque\n",
    "\n",
    "dq = deque(range(1, 10))\n",
    "dq.append(12)\n",
    "dq.appendleft(-1)\n",
    "try:\n",
    "    dq.pop()\n",
    "    dq.popleft()\n",
    "except IndexError as ex:\n",
    "    print(ex)\n",
    "dq.extend([22, 33, 44])\n",
    "dq.extendleft([-11, -22])\n",
    "dq.insert(-3, 3)\n",
    "dq.remove(3)\n",
    "\n",
    "# FIFO\n",
    "dq.append(4)\n",
    "dq.popleft()\n",
    "# or\n",
    "dq.appendleft(4)\n",
    "dq.pop()\n",
    "# LIFO\n",
    "dq.append(4)\n",
    "dq.pop()\n",
    "# or\n",
    "dq.appendleft(4)\n",
    "dq.popleft()\n",
    "\n",
    "print(dq)"
   ]
  },
  {
   "cell_type": "markdown",
   "metadata": {},
   "source": [
    "Stack on python"
   ]
  },
  {
   "cell_type": "code",
   "execution_count": 4,
   "metadata": {},
   "outputs": [
    {
     "name": "stdout",
     "output_type": "stream",
     "text": [
      "deque([7, 5])\n",
      "deque([7])\n",
      "deque([7, 11])\n"
     ]
    }
   ],
   "source": [
    "from collections import deque\n",
    "\n",
    "stack = deque()\n",
    "\n",
    "stack.append(7)\n",
    "stack.append(5)\n",
    "print(stack)\n",
    "stack.pop()\n",
    "print(stack)\n",
    "stack.append(11)\n",
    "print(stack)"
   ]
  },
  {
   "cell_type": "markdown",
   "metadata": {},
   "source": [
    "Binary tree"
   ]
  },
  {
   "cell_type": "code",
   "execution_count": 24,
   "metadata": {},
   "outputs": [
    {
     "name": "stdout",
     "output_type": "stream",
     "text": [
      "1\n",
      "2\n",
      "4\n",
      "6\n",
      "7\n",
      "22\n",
      "33\n",
      "44\n",
      "\n",
      "1\n",
      "2\n",
      "4\n",
      "7\n",
      "22\n",
      "33\n",
      "44\n",
      "\n",
      "44 \n",
      "22 \n",
      "1 33 \n",
      "7 \n",
      "4 \n",
      "2 \n"
     ]
    }
   ],
   "source": [
    "class Node:\n",
    "    def __init__(self, data) -> None:\n",
    "        self.data = data\n",
    "        self.left = self.right = None\n",
    "class Tree:\n",
    "    def __init__(self) -> None:\n",
    "        self.root = None\n",
    "        \n",
    "    def __find(self, node, parent, value):\n",
    "        if node is None:\n",
    "            return None, parent, False\n",
    "        if value == node.data:\n",
    "            return node, parent, True\n",
    "        if value < node.data:\n",
    "            if node.left:\n",
    "                return self.__find(node.left, node, value)\n",
    "            \n",
    "        if value > node.data:\n",
    "            if node.right:\n",
    "                return self.__find(node.right, node, value)     \n",
    "         \n",
    "        return node, parent, False\n",
    "                   \n",
    "    def append(self, obj: Node):\n",
    "        if self.root is None:\n",
    "            self.root = obj\n",
    "            return obj\n",
    "        s, p, fl_find = self.__find(self.root, None, obj.data)\n",
    "        if not fl_find and s:\n",
    "            if obj.data < s.data:\n",
    "                s.left = obj\n",
    "            else:\n",
    "                s.right = obj\n",
    "        return obj\n",
    "    def show_tree(self, node):\n",
    "        if node is None:\n",
    "            return\n",
    "        self.show_tree(node.left)\n",
    "        print(node.data)\n",
    "        self.show_tree(node.right)\n",
    "    def show_wide_tree(self, node):\n",
    "        if node is None:\n",
    "            return\n",
    "        lv = [node]\n",
    "        while lv:\n",
    "            l = []\n",
    "            for node in lv:\n",
    "                print(node.data, end=' ')\n",
    "                if node.left:\n",
    "                    l.append(node.left)\n",
    "                if node.right:\n",
    "                    l.append(node.right)\n",
    "            print()\n",
    "            lv = l\n",
    "        \n",
    "    def __del_leaf(self, node, parent):\n",
    "        if node == parent.left:\n",
    "            parent.left = None\n",
    "        elif node == parent.right:\n",
    "            parent.right = None        \n",
    "    \n",
    "    def __del_one_child(self, node, parent):\n",
    "        if node == parent.left:\n",
    "            if node.left is None:\n",
    "                parent.left = node.right\n",
    "            elif node.right is None:\n",
    "                parent.right = node.right      \n",
    "        elif node == parent.right:\n",
    "            if node.left is None:\n",
    "                parent.right = node.right\n",
    "            elif node.right is None:\n",
    "                parent.right = node.right   \n",
    "                \n",
    "    def __find_min(self, node, parent):\n",
    "        if node.left:\n",
    "            return self.__find_min(node.left, node)\n",
    "        else:\n",
    "            return node, parent\n",
    "        \n",
    "                                \n",
    "    def del_node(self, value):\n",
    "        s, p, fl_find = self.__find(self.root, None, value)\n",
    "        if not fl_find:\n",
    "            return None\n",
    "        if s.left is None and s.right is None:\n",
    "            self.__del_leaf(s, p)      \n",
    "        elif s.left is None or s.right is None:\n",
    "            self.__del_one_child(s, p)\n",
    "        elif s.left is not None and s.right is not None:\n",
    "            sr, pr = self.__find_min(s.right, s)\n",
    "            s.data = sr.data\n",
    "            self.__del_one_child(sr, pr)\n",
    "        \n",
    "        \n",
    "v = [44, 22, 1, 6, 4, 2, 7, 33]\n",
    "\n",
    "tree = Tree()\n",
    "for el in v:\n",
    "    tree.append(Node(el))\n",
    "tree.show_tree(tree.root)\n",
    "tree.del_node(6)\n",
    "print()\n",
    "tree.show_tree(tree.root)\n",
    "print()\n",
    "tree.show_wide_tree(tree.root)"
   ]
  },
  {
   "cell_type": "code",
   "execution_count": null,
   "metadata": {},
   "outputs": [],
   "source": []
  },
  {
   "cell_type": "code",
   "execution_count": null,
   "metadata": {},
   "outputs": [],
   "source": []
  },
  {
   "cell_type": "code",
   "execution_count": null,
   "metadata": {},
   "outputs": [],
   "source": []
  },
  {
   "cell_type": "code",
   "execution_count": null,
   "metadata": {},
   "outputs": [],
   "source": []
  },
  {
   "cell_type": "code",
   "execution_count": null,
   "metadata": {},
   "outputs": [],
   "source": []
  }
 ],
 "metadata": {
  "kernelspec": {
   "display_name": "Python 3.7.1 64-bit",
   "language": "python",
   "name": "python3"
  },
  "language_info": {
   "codemirror_mode": {
    "name": "ipython",
    "version": 3
   },
   "file_extension": ".py",
   "mimetype": "text/x-python",
   "name": "python",
   "nbconvert_exporter": "python",
   "pygments_lexer": "ipython3",
   "version": "3.7.1"
  },
  "orig_nbformat": 4,
  "vscode": {
   "interpreter": {
    "hash": "fbe58ca63fe33f9eeae9e71d10368d2b4a57f2b1b395836210cc60d362c66949"
   }
  }
 },
 "nbformat": 4,
 "nbformat_minor": 2
}
